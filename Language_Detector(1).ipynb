{
  "nbformat": 4,
  "nbformat_minor": 0,
  "metadata": {
    "colab": {
      "name": "Language_Detector.ipynb",
      "version": "0.3.2",
      "provenance": [],
      "collapsed_sections": []
    },
    "kernelspec": {
      "name": "python3",
      "display_name": "Python 3"
    },
    "accelerator": "GPU"
  },
  "cells": [
    {
      "metadata": {
        "id": "PzDqVYq1TBeE",
        "colab_type": "code",
        "outputId": "c64f269f-ec9b-4acf-c360-3de3c86ecce4",
        "colab": {
          "base_uri": "https://localhost:8080/",
          "height": 35
        }
      },
      "cell_type": "code",
      "source": [
        "cd drive/Language_Detection"
      ],
      "execution_count": 1,
      "outputs": [
        {
          "output_type": "stream",
          "text": [
            "/content/drive/Language_Detection\n"
          ],
          "name": "stdout"
        }
      ]
    },
    {
      "metadata": {
        "id": "Yrs6JGUgTYMj",
        "colab_type": "code",
        "colab": {}
      },
      "cell_type": "code",
      "source": [
        "# import neccessary libraries \n",
        "import tarfile, zipfile\n",
        "import csv\n",
        "import os\n",
        "import pandas as pd\n",
        "import numpy as np\n",
        "import time\n",
        "from numpy import random\n",
        "from matplotlib import pyplot as plt\n",
        "from sklearn.feature_extraction.text import TfidfTransformer, CountVectorizer\n",
        "from sklearn.pipeline import Pipeline\n",
        "from sklearn.linear_model import LogisticRegression\n",
        "from sklearn.metrics import accuracy_score, confusion_matrix\n",
        "from sklearn.model_selection import train_test_split\n",
        "%matplotlib inline"
      ],
      "execution_count": 0,
      "outputs": []
    },
    {
      "metadata": {
        "id": "nfSdPfpXWfKw",
        "colab_type": "text"
      },
      "cell_type": "markdown",
      "source": [
        "**Data**\n",
        "\n",
        "Data used here is from the European Parliament Corpus. The .tar file is unzipped using the lines of code below."
      ]
    },
    {
      "metadata": {
        "id": "mJ0-VzjDT41_",
        "colab_type": "code",
        "colab": {}
      },
      "cell_type": "code",
      "source": [
        "#these lines are executed only the first to extract data from a zip file\n",
        "languages = tarfile.open(\"europarl.tgz\")\n",
        "languages.extractall()"
      ],
      "execution_count": 0,
      "outputs": []
    },
    {
      "metadata": {
        "id": "RdvnVTyXgJ1k",
        "colab_type": "text"
      },
      "cell_type": "markdown",
      "source": [
        "The dataset comes in a .txt format, however, it is more convenient to work with data in .csv format. Therefore, a for loop is created to loop through the .txt files line by line and compiled into one csv file for each language."
      ]
    },
    {
      "metadata": {
        "id": "iforN5_ZT6ZZ",
        "colab_type": "code",
        "colab": {}
      },
      "cell_type": "code",
      "source": [
        "#creating a list of the different languages\n",
        "labels = {'Bulgarian': 'bg', 'Czech': 'cs', 'Danish': 'da', 'German':'de', \n",
        "          'Greek':'el', 'English':'en','Spanish':'es', 'Estonian':'et', \n",
        "          'Finnish':'fi', 'French':'fr', 'Hungarian':'hu', 'Italian':'it', \n",
        "          'Lithuanian':'lt', 'Latvian':'lv', 'Dutch':'nl', 'Polish':'pl', \n",
        "          'Portuguese':'pt', 'Romanian':'ro', 'Slovak':'sk', 'Slovene':'sl', \n",
        "          'Swedish':'sv'}\n"
      ],
      "execution_count": 0,
      "outputs": []
    },
    {
      "metadata": {
        "id": "KlCNcdK17Mjy",
        "colab_type": "code",
        "colab": {}
      },
      "cell_type": "code",
      "source": [
        "#path to the where all the files are extracted to\n",
        "path = 'txt'\n",
        "directories = os.listdir(path)"
      ],
      "execution_count": 0,
      "outputs": []
    },
    {
      "metadata": {
        "id": "W3Nn9DR0UD4b",
        "colab_type": "code",
        "colab": {}
      },
      "cell_type": "code",
      "source": [
        "#converting txt files to csv\n",
        "start_time = time.time()\n",
        "print('Converting txt to csv begun')\n",
        "for lang in directories:\n",
        "    print('Converting '+lang+' to csv begun')\n",
        "    paths = path + '/' + lang\n",
        "    files = os.listdir(paths)\n",
        "    lang_type = [lang]\n",
        "    lang_type = open(lang+'.csv','w')\n",
        "    for file in files:\n",
        "        try:\n",
        "            with open(paths+'/'+file, 'r') as lines:\n",
        "                for line in lines:\n",
        "                    lang_type.write(line)\n",
        "        #this runs when there is an error in decoding\n",
        "        except UnicodeDecodeError:\n",
        "            with open(paths+'/'+file, 'r', encoding = 'unicode_escape') as lines:\n",
        "                for line in lines:\n",
        "                    lang_type.write(line)\n",
        "    print(\"Conversion done \\n\")\n",
        "                    \n",
        "print(\"--- %s seconds ---\" % (time.time() - start_time))\n",
        "print(\"Converting from txt to csv done\")"
      ],
      "execution_count": 0,
      "outputs": []
    },
    {
      "metadata": {
        "id": "VwEIQBtek-EQ",
        "colab_type": "text"
      },
      "cell_type": "markdown",
      "source": [
        "**PRE-PROCESSING**\n",
        "\n",
        "The next box of code deals with cleaning up the data to remove undesirable lines as well as characters common to most languages to improve accuracy of predictions. However, due to computational power constraints, I trained with only 20 percent of the entire corpus."
      ]
    },
    {
      "metadata": {
        "id": "yB6AI8evUICT",
        "colab_type": "code",
        "outputId": "fefafaac-2d0a-4e24-d720-3c7bd6e319a1",
        "colab": {
          "base_uri": "https://localhost:8080/",
          "height": 2268
        }
      },
      "cell_type": "code",
      "source": [
        "# pre-processing and cleaning dataset\n",
        "\n",
        "# create a training dataframe\n",
        "train_df = pd.DataFrame(columns = ['Sentences','Language_Type'])\n",
        "\n",
        "# loop through each language and clean\n",
        "for label in labels.keys():\n",
        "  print(label,labels[label],'\\n') # print language type initialization notification\n",
        "  try:\n",
        "    start_time = time.time()\n",
        "    # load data for individual langauges\n",
        "    data         = pd.read_csv(labels[label]+'.csv', sep='delimiter', header=None, \n",
        "                               engine='python', index_col = False)\n",
        "    data.columns = ['Sentences']\n",
        "    data         = data[~data.Sentences.str.contains(\"<\")]\n",
        "    #characters common to most languages\n",
        "    characters   = ['1','2','3','4','5','6','7','8','9','0', '@',\"'\",'#','$','%',\n",
        "                    '&','/','(',')','\"','.',',','?','/','!','=',':',';']\n",
        "    print(label, 'Data loaded, Pre-processing begun')\n",
        "    for character in characters:\n",
        "      data.loc[:,'Sentences'] = data.loc[:,'Sentences'].str.replace(r''+character, \n",
        "                                                                    \"\")\n",
        "    #indicate corresponding language\n",
        "    data['Language_Type'] = label\n",
        "    #take 70000 lines current language of dataset\n",
        "    data                  = data[:70000]\n",
        "    #add to train dataframe \n",
        "    train_df              = pd.concat([train_df,data], axis=0, ignore_index=True)\n",
        "    #   \n",
        "    print(\"--- %s seconds ---\" % (time.time() - start_time))\n",
        "    print('Pre-processing of ',label,' finished \\n')\n",
        "  \n",
        "  # decoding error handler    \n",
        "  except:\n",
        "    start_time = time.time()\n",
        "    # load data for individual langauges\n",
        "    data                     = pd.read_csv(labels[label]+'.csv', sep='delimiter', \n",
        "                                           header=None, error_bad_lines=False, \n",
        "                                           index_col = False)\n",
        "    data.columns             = ['Sentences']\n",
        "    data                     = data[~data.Sentences.str.contains(\"<\")]\n",
        "    characters = ['1','2','3','4','5','6','7','8','9','0', '@',\"'\",'#','$','%','&'\n",
        "                  ,'/','(',')','\"','.',',','?','/','!','=',':',';']\n",
        "    print(label, 'Data loaded, Pre-processing begun (encoding error)')\n",
        "    for character in characters:\n",
        "      data.loc[:,'Sentences'] = data.loc[:,'Sentences'].str.replace(r''+character, \n",
        "                                                                    \"\")\n",
        "  \n",
        "    data['Language_Type']  = label\n",
        "    data                  = data[:70000]\n",
        "    \n",
        "    train_df = pd.concat([train_df,data], axis=0, ignore_index=True)\n",
        "        \n",
        "    print(\"--- %s seconds ---\" % (time.time() - start_time))\n",
        "    print('Pre-processing of ',label,' finished \\n')"
      ],
      "execution_count": 5,
      "outputs": [
        {
          "output_type": "stream",
          "text": [
            "Bulgarian bg \n",
            "\n",
            "Bulgarian Data loaded, Pre-processing begun\n",
            "--- 8.948080062866211 seconds ---\n",
            "Pre-processing of  Bulgarian  finished \n",
            "\n",
            "Czech cs \n",
            "\n",
            "Czech Data loaded, Pre-processing begun\n",
            "--- 18.668476819992065 seconds ---\n",
            "Pre-processing of  Czech  finished \n",
            "\n",
            "Danish da \n",
            "\n",
            "Danish Data loaded, Pre-processing begun\n",
            "--- 44.26220512390137 seconds ---\n",
            "Pre-processing of  Danish  finished \n",
            "\n",
            "German de \n",
            "\n",
            "German Data loaded, Pre-processing begun\n",
            "--- 44.37783169746399 seconds ---\n",
            "Pre-processing of  German  finished \n",
            "\n",
            "Greek el \n",
            "\n",
            "Greek Data loaded, Pre-processing begun\n",
            "--- 40.835460901260376 seconds ---\n",
            "Pre-processing of  Greek  finished \n",
            "\n",
            "English en \n",
            "\n",
            "English Data loaded, Pre-processing begun\n",
            "--- 46.416346311569214 seconds ---\n",
            "Pre-processing of  English  finished \n",
            "\n",
            "Spanish es \n",
            "\n",
            "Spanish Data loaded, Pre-processing begun\n",
            "--- 47.63885760307312 seconds ---\n",
            "Pre-processing of  Spanish  finished \n",
            "\n",
            "Estonian et \n",
            "\n",
            "Estonian Data loaded, Pre-processing begun\n",
            "--- 19.47958254814148 seconds ---\n",
            "Pre-processing of  Estonian  finished \n",
            "\n",
            "Finnish fi \n",
            "\n",
            "Finnish Data loaded, Pre-processing begun\n",
            "--- 43.261438846588135 seconds ---\n",
            "Pre-processing of  Finnish  finished \n",
            "\n",
            "French fr \n",
            "\n",
            "French Data loaded, Pre-processing begun\n",
            "--- 49.19393539428711 seconds ---\n",
            "Pre-processing of  French  finished \n",
            "\n",
            "Hungarian hu \n",
            "\n",
            "Hungarian Data loaded, Pre-processing begun\n",
            "--- 17.79615020751953 seconds ---\n",
            "Pre-processing of  Hungarian  finished \n",
            "\n",
            "Italian it \n",
            "\n",
            "Italian Data loaded, Pre-processing begun\n",
            "--- 47.954132318496704 seconds ---\n",
            "Pre-processing of  Italian  finished \n",
            "\n",
            "Lithuanian lt \n",
            "\n",
            "Lithuanian Data loaded, Pre-processing begun\n",
            "--- 21.97544288635254 seconds ---\n",
            "Pre-processing of  Lithuanian  finished \n",
            "\n",
            "Latvian lv \n",
            "\n",
            "Latvian Data loaded, Pre-processing begun\n",
            "--- 19.903079509735107 seconds ---\n",
            "Pre-processing of  Latvian  finished \n",
            "\n",
            "Dutch nl \n",
            "\n",
            "Dutch Data loaded, Pre-processing begun\n",
            "--- 48.47251653671265 seconds ---\n",
            "Pre-processing of  Dutch  finished \n",
            "\n",
            "Polish pl \n",
            "\n",
            "Polish Data loaded, Pre-processing begun\n",
            "--- 16.950263738632202 seconds ---\n",
            "Pre-processing of  Polish  finished \n",
            "\n",
            "Portuguese pt \n",
            "\n",
            "Portuguese Data loaded, Pre-processing begun\n",
            "--- 47.76169729232788 seconds ---\n",
            "Pre-processing of  Portuguese  finished \n",
            "\n",
            "Romanian ro \n",
            "\n",
            "Romanian Data loaded, Pre-processing begun\n",
            "--- 14.980154037475586 seconds ---\n",
            "Pre-processing of  Romanian  finished \n",
            "\n",
            "Slovak sk \n",
            "\n",
            "Slovak Data loaded, Pre-processing begun\n",
            "--- 19.80646514892578 seconds ---\n",
            "Pre-processing of  Slovak  finished \n",
            "\n",
            "Slovene sl \n",
            "\n",
            "Slovene Data loaded, Pre-processing begun\n",
            "--- 18.41869020462036 seconds ---\n",
            "Pre-processing of  Slovene  finished \n",
            "\n",
            "Swedish sv \n",
            "\n",
            "Swedish Data loaded, Pre-processing begun\n",
            "--- 44.88107967376709 seconds ---\n",
            "Pre-processing of  Swedish  finished \n",
            "\n"
          ],
          "name": "stdout"
        }
      ]
    },
    {
      "metadata": {
        "id": "NjAmM_NCrLhx",
        "colab_type": "text"
      },
      "cell_type": "markdown",
      "source": [
        "**Visualization**\n",
        "\n",
        "Here we visualize the number of lines of sentences contained in datframe by each language"
      ]
    },
    {
      "metadata": {
        "id": "DIpM-0jQUQsA",
        "colab_type": "code",
        "outputId": "85c30b2d-fecb-48c4-fccf-caef022804e3",
        "colab": {
          "base_uri": "https://localhost:8080/",
          "height": 327
        }
      },
      "cell_type": "code",
      "source": [
        "# plot distribution of languages\n",
        "plt.figure(figsize=(10,4))\n",
        "train_df.Language_Type.value_counts().plot(kind='bar')"
      ],
      "execution_count": 6,
      "outputs": [
        {
          "output_type": "execute_result",
          "data": {
            "text/plain": [
              "<matplotlib.axes._subplots.AxesSubplot at 0x7f85a854bc18>"
            ]
          },
          "metadata": {
            "tags": []
          },
          "execution_count": 6
        },
        {
          "output_type": "display_data",
          "data": {
            "image/png": "[encoded data removed]",
            "text/plain": [
              "<Figure size 720x288 with 1 Axes>"
            ]
          },
          "metadata": {
            "tags": []
          }
        }
      ]
    },
    {
      "metadata": {
        "id": "9gZYLPPyi74V",
        "colab_type": "text"
      },
      "cell_type": "markdown",
      "source": [
        "**Train and Test Model**\n",
        "\n",
        "Here, the dataset split into a train and test datase, using a 70 - 30 train to test test ratio for cross validation"
      ]
    },
    {
      "metadata": {
        "id": "HrILqfpWUo1O",
        "colab_type": "code",
        "colab": {}
      },
      "cell_type": "code",
      "source": [
        "#shuffle dataframe before spliting into train and test for validation\n",
        "train_df = train_df.sample(frac=1).reset_index(drop=True)"
      ],
      "execution_count": 0,
      "outputs": []
    },
    {
      "metadata": {
        "id": "2i2FWnssUXbe",
        "colab_type": "code",
        "colab": {}
      },
      "cell_type": "code",
      "source": [
        "# split training dataset into train and test datasets\n",
        "X = train_df.Sentences\n",
        "y = train_df.Language_Type\n",
        "X_train, X_test, y_train, y_test = train_test_split(X, y, test_size = 0.3)"
      ],
      "execution_count": 0,
      "outputs": []
    },
    {
      "metadata": {
        "id": "4XsoYouYUjos",
        "colab_type": "code",
        "outputId": "e92536fa-45b2-42bc-efab-d69d7726e1ef",
        "colab": {
          "base_uri": "https://localhost:8080/",
          "height": 35
        }
      },
      "cell_type": "code",
      "source": [
        "# vectorization and transformation of text in sentences to number vectors\n",
        "model_LR = Pipeline([('vect', CountVectorizer()),\n",
        "                     ('tfidf', TfidfTransformer()),\n",
        "                     ('clf', LogisticRegression(n_jobs=1, C=1e5, solver='lbfgs', \n",
        "                                                multi_class='multinomial' )),\n",
        "                    ])\n",
        "\n",
        "start_time = time.time()\n",
        "print(' Model training started')\n",
        "model_LR.fit(X_train, y_train)\n",
        "print('Model training finished in ',\"--- %s seconds ---\" % (time.time() - \n",
        "                                                            start_time))\n",
        "\n",
        "y_pred = model_LR.predict(X_test)\n",
        "\n",
        "print('accuracy %s' % accuracy_score(y_pred, y_test))"
      ],
      "execution_count": 0,
      "outputs": [
        {
          "output_type": "stream",
          "text": [
            " Model training started\n"
          ],
          "name": "stdout"
        }
      ]
    },
    {
      "metadata": {
        "id": "wTxRd9ytUx65",
        "colab_type": "code",
        "colab": {}
      },
      "cell_type": "code",
      "source": [
        "# Confusion matrix to check for True and False Positives, True and False Negatives\n",
        "confusion_matrix(y_pred, y_test)"
      ],
      "execution_count": 0,
      "outputs": []
    },
    {
      "metadata": {
        "id": "zvQEA2ylubAf",
        "colab_type": "code",
        "colab": {}
      },
      "cell_type": "code",
      "source": [
        "X = ['Hvis den relevante gennemsigtighed allerede']\n",
        "model_LR.predict(X)"
      ],
      "execution_count": 0,
      "outputs": []
    },
    {
      "metadata": {
        "id": "UghScL5nupaZ",
        "colab_type": "code",
        "colab": {}
      },
      "cell_type": "code",
      "source": [
        "X = ['Sunt foarte foame și fermecat']\n",
        "model_LR.predict(X)"
      ],
      "execution_count": 0,
      "outputs": []
    },
    {
      "metadata": {
        "id": "jXP3xtDyAhLj",
        "colab_type": "code",
        "colab": {}
      },
      "cell_type": "code",
      "source": [
        "X = ['This is amazing']\n",
        "model_LR.predict(X)"
      ],
      "execution_count": 0,
      "outputs": []
    },
    {
      "metadata": {
        "id": "SFQII9x1AsJJ",
        "colab_type": "code",
        "colab": {}
      },
      "cell_type": "code",
      "source": [
        ""
      ],
      "execution_count": 0,
      "outputs": []
    }
  ]
}